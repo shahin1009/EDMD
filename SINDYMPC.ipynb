{
  "nbformat": 4,
  "nbformat_minor": 0,
  "metadata": {
    "colab": {
      "provenance": [],
      "gpuType": "T4",
      "include_colab_link": true
    },
    "kernelspec": {
      "name": "python3",
      "display_name": "Python 3"
    },
    "language_info": {
      "name": "python"
    }
  },
  "cells": [
    {
      "cell_type": "markdown",
      "metadata": {
        "id": "view-in-github",
        "colab_type": "text"
      },
      "source": [
        "<a href=\"https://colab.research.google.com/github/shahin1009/EDMD/blob/main/SINDYMPC.ipynb\" target=\"_parent\"><img src=\"https://colab.research.google.com/assets/colab-badge.svg\" alt=\"Open In Colab\"/></a>"
      ]
    },
    {
      "cell_type": "markdown",
      "source": [
        "# MPC applied to LOTKA-VOLTERRA system using a SINDYc model for different prediction horizon lengths."
      ],
      "metadata": {
        "id": "5YeS6jbljQI2"
      }
    },
    {
      "cell_type": "code",
      "source": [
        "import numpy as np\n",
        "import matplotlib.pyplot as plt\n",
        "from scipy.optimize import minimize\n",
        "from scipy.integrate import solve_ivp"
      ],
      "metadata": {
        "id": "at9MlO29LreY"
      },
      "execution_count": 309,
      "outputs": []
    },
    {
      "cell_type": "markdown",
      "source": [
        "# SINDYc methods:"
      ],
      "metadata": {
        "id": "TV4l82SU07iP"
      }
    },
    {
      "cell_type": "markdown",
      "source": [
        "Building the library of observables"
      ],
      "metadata": {
        "id": "Shut5aFw1HlH"
      }
    },
    {
      "cell_type": "code",
      "execution_count": 310,
      "metadata": {
        "id": "eRogeWbS7488"
      },
      "outputs": [],
      "source": [
        "def buildTheta(yin, nVars, polyorder):\n",
        "\n",
        "    \"\"\"\n",
        "    Builds a polynomial dictionary from input data.\n",
        "\n",
        "    Args:\n",
        "        yin: Input data.\n",
        "        nVars: Number of input variables.\n",
        "        polyorder: Polynomial order.\n",
        "\n",
        "    Returns:\n",
        "        Polynomial dictionary.\n",
        "    \"\"\"\n",
        "\n",
        "    n = yin.shape[0]\n",
        "    ind = 0\n",
        "    yout = np.zeros((n, 1))\n",
        "    yout[:, ind] = np.ones((1,n))\n",
        "    ind += 1\n",
        "\n",
        "    # Copy input variables to output\n",
        "    for i in np.arange(nVars):\n",
        "        # yout[:, ind] = yin[:, i]\n",
        "        yout = np.append(yout, yin[:, i].reshape(-1, 1), 1)\n",
        "\n",
        "        ind += 1\n",
        "\n",
        "    if polyorder >= 2:\n",
        "        # Polynomial order 2\n",
        "        for i in np.arange(nVars):\n",
        "            for j in np.arange(i, nVars):\n",
        "                new_col = yin[:, i] * yin[:, j]\n",
        "                yout = np.append(yout, new_col.reshape(-1, 1), 1)\n",
        "                ind += 1\n",
        "\n",
        "    if polyorder >= 3:\n",
        "        # Polynomial order 3\n",
        "        for i in np.arange(nVars):\n",
        "            for j in np.arange(i, nVars):\n",
        "                for k in np.arange(j, nVars):\n",
        "                    new_col = yin[:, i] * yin[:, j] * yin[:, k]\n",
        "                    yout = np.append(yout, new_col.reshape(-1, 1), 1)\n",
        "                    ind += 1\n",
        "\n",
        "    if polyorder >= 4:\n",
        "        # Polynomial order 4\n",
        "        for i in np.arange(nVars):\n",
        "            for j in np.arange(i, nVars):\n",
        "                for k in np.arange(j, nVars):\n",
        "                    for l in np.arange(k, nVars):\n",
        "                        new_col = yin[:, i] * yin[:, j] * yin[:, k] * yin[:, l]\n",
        "                        yout = np.append(yout, new_col.reshape(-1, 1), 1)\n",
        "                        ind += 1\n",
        "\n",
        "\n",
        "    return yout\n"
      ]
    },
    {
      "cell_type": "code",
      "source": [
        "# For printing purposes\n",
        "def poolDataLIST(yin, ahat, nVars, polyorder):\n",
        "\n",
        "    ind = 0\n",
        "    yout = []\n",
        "    yout.append(['1'])\n",
        "    ind += 1\n",
        "\n",
        "    for i in range(nVars):\n",
        "        yout.append([yin[i]])\n",
        "        ind += 1\n",
        "\n",
        "    if polyorder >= 2:\n",
        "        for i in range(nVars):\n",
        "            for j in range(i, nVars):\n",
        "                yout.append([yin[i], yin[j]])\n",
        "                ind += 1\n",
        "\n",
        "    if polyorder >= 3:\n",
        "        for i in range(nVars):\n",
        "            for j in range(i, nVars):\n",
        "                for k in range(j, nVars):\n",
        "                    yout.append([yin[i], yin[j], yin[k]])\n",
        "                    ind += 1\n",
        "\n",
        "    if polyorder >= 4:\n",
        "        for i in range(nVars):\n",
        "            for j in range(i, nVars):\n",
        "                for k in range(j, nVars):\n",
        "                    for l in range(k, nVars):\n",
        "                        yout.append([yin[i], yin[j], yin[k], yin[l]])\n",
        "                        ind += 1\n",
        "\n",
        "    if polyorder >= 5:\n",
        "        for i in range(nVars):\n",
        "            for j in range(i, nVars):\n",
        "                for k in range(j, nVars):\n",
        "                    for l in range(k, nVars):\n",
        "                        for m in range(l, nVars):\n",
        "                            yout.append([yin[i], yin[j], yin[k], yin[l], yin[m]])\n",
        "                            ind += 1\n",
        "\n",
        "    output = yout\n",
        "\n",
        "    for item1, item2 in zip(output, ahat):\n",
        "      print(f'{item1}\\t{item2}'.replace(\", \", \"\").replace(\"'\", \"\"))\n",
        "    return output\n"
      ],
      "metadata": {
        "id": "NyVwpT0n79uV"
      },
      "execution_count": 311,
      "outputs": []
    },
    {
      "cell_type": "markdown",
      "source": [
        "sparsity-promoting regression using least square"
      ],
      "metadata": {
        "id": "r3zPBLhg1f9n"
      }
    },
    {
      "cell_type": "code",
      "source": [
        "def sparsifyDynamics(Theta,dXdt,lamb,n):\n",
        "    Xi = np.linalg.lstsq(Theta,dXdt,rcond=None)[0] # Initial guess: Least-squares\n",
        "\n",
        "    for k in range(10):\n",
        "        smallinds = np.abs(Xi) < lamb # Find small coefficients\n",
        "        Xi[smallinds] = 0                          # and threshold\n",
        "        for ind in range(n):                       # n is state dimension\n",
        "            biginds = smallinds[:,ind] == 0\n",
        "            # Regress dynamics onto remaining terms to find sparse Xi\n",
        "            Xi[biginds,ind] = np.linalg.lstsq(Theta[:,biginds],dXdt[:,ind],rcond=None)[0]\n",
        "\n",
        "    return Xi"
      ],
      "metadata": {
        "id": "0wFagPvj8ALn"
      },
      "execution_count": 312,
      "outputs": []
    },
    {
      "cell_type": "markdown",
      "source": [
        "# Data generation"
      ],
      "metadata": {
        "id": "aKFq8yUo0ZEI"
      }
    },
    {
      "cell_type": "markdown",
      "source": [
        "### Lotka-Volterra system"
      ],
      "metadata": {
        "id": "PWCVgKZH0UYo"
      }
    },
    {
      "cell_type": "code",
      "source": [
        "def forcing(t):\n",
        "    return (2 * (np.sin(1 * t) + np.sin(0.1 * t)))**2\n",
        "\n",
        "\n",
        "def ff(t,q):   # with forcing -  Without control\n",
        "    x, y = q\n",
        "    a = .5\n",
        "    b = .025\n",
        "    d = .005\n",
        "    g = .5\n",
        "    return np.array([a*x-b*x*y, d*x*y-g*y+forcing(t)])\n",
        "\n",
        "def fff(t,q,u,p):    # with forcing -  With control\n",
        "    x, y = q\n",
        "    a = .5\n",
        "    b = .025\n",
        "    d = .005\n",
        "    g = .5\n",
        "    return np.array([a*x-b*x*y, d*x*y-g*y+u+forcing(t)])\n",
        "\n",
        "\n",
        "def solve(f , ic,t,dt):\n",
        "    # rk45 solution\n",
        "    sol = solve_ivp(\n",
        "    f,\n",
        "    t,\n",
        "    ic,\n",
        "    max_step = dt)\n",
        "\n",
        "    return sol.t , sol.y"
      ],
      "metadata": {
        "id": "aXo7stUh9rhL"
      },
      "execution_count": 313,
      "outputs": []
    },
    {
      "cell_type": "code",
      "source": [
        "x0 = np.array([60, 50])\n",
        "dt = .01\n",
        "\n",
        "tf , yf = solve(ff,x0,[0,100],dt)\n",
        "uf = forcing(tf)\n",
        "\n",
        "yfnew = np.concatenate((yf, uf.reshape(1, -1)), axis=0)   # Adding u column to the population data"
      ],
      "metadata": {
        "id": "3OySfUVn9JUv"
      },
      "execution_count": 314,
      "outputs": []
    },
    {
      "cell_type": "code",
      "source": [
        "# add noise to data\n",
        "dy = ff(tf , [yf[0,:],yf[1,:]],)\n",
        "dynew = np.concatenate((dy, np.zeros((10001,1)).T), axis=0)\n",
        "noise_mean = 0  # Mean of the noise\n",
        "noise_std = 0.1  # Standard deviation of the noise\n",
        "noise = np.random.normal(noise_mean, noise_std, dynew.shape)\n",
        "dynew = dynew + noise"
      ],
      "metadata": {
        "id": "zqtUoAwJGFl3"
      },
      "execution_count": 315,
      "outputs": []
    },
    {
      "cell_type": "code",
      "source": [
        "fig, ax1 = plt.subplots()  # Create a figure with two subplots\n",
        "\n",
        "ax1.plot(tf,yfnew[0, :], '-', color=[0, 0, 0.7], linewidth=2)\n",
        "ax1.plot(tf,yfnew[1, :], '-', color=[0.7, 0.1, 0], linewidth=2)\n",
        "ax1.set_xlabel('time')\n",
        "ax1.set_ylabel('population size')\n",
        "plt.show()\n"
      ],
      "metadata": {
        "colab": {
          "base_uri": "https://localhost:8080/",
          "height": 449
        },
        "id": "xkbXdSL6AwpI",
        "outputId": "96a1135c-0357-4efd-82f9-b4ddf0ff1efe"
      },
      "execution_count": 316,
      "outputs": [
        {
          "output_type": "display_data",
          "data": {
            "text/plain": [
              "<Figure size 640x480 with 1 Axes>"
            ],
            "image/png": "[encoded data removed]"
          },
          "metadata": {}
        }
      ]
    },
    {
      "cell_type": "markdown",
      "source": [],
      "metadata": {
        "id": "OIgFX4Og2Muu"
      }
    },
    {
      "cell_type": "code",
      "source": [
        "nvar = 3\n",
        "polyorder = 3\n",
        "Theta = buildTheta(yfnew.T, nvar, polyorder)\n",
        "\n",
        "lamb = 0.001 # sparsification knob lambda\n",
        "Xi = sparsifyDynamics(Theta,dynew.T,lamb,nvar)\n",
        "\n",
        "output = poolDataLIST(['x','y','u'], Xi, nvar, polyorder)"
      ],
      "metadata": {
        "colab": {
          "base_uri": "https://localhost:8080/"
        },
        "id": "oOyzZl3b8Gsr",
        "outputId": "f917af4a-c569-4a12-fea9-d60b2b184f30"
      },
      "execution_count": 317,
      "outputs": [
        {
          "output_type": "stream",
          "name": "stdout",
          "text": [
            "[1]\t[-0.00173631 -0.00620737  0.        ]\n",
            "[x]\t[0.50000115 0.         0.        ]\n",
            "[y]\t[ 0.         -0.49978409  0.        ]\n",
            "[u]\t[0.         1.00000226 0.        ]\n",
            "[xx]\t[0. 0. 0.]\n",
            "[xy]\t[-0.025      0.0050007  0.       ]\n",
            "[xu]\t[0. 0. 0.]\n",
            "[yy]\t[0. 0. 0.]\n",
            "[yu]\t[0. 0. 0.]\n",
            "[uu]\t[0. 0. 0.]\n",
            "[xxx]\t[0. 0. 0.]\n",
            "[xxy]\t[0. 0. 0.]\n",
            "[xxu]\t[0. 0. 0.]\n",
            "[xyy]\t[0. 0. 0.]\n",
            "[xyu]\t[0. 0. 0.]\n",
            "[xuu]\t[0. 0. 0.]\n",
            "[yyy]\t[0. 0. 0.]\n",
            "[yyu]\t[0. 0. 0.]\n",
            "[yuu]\t[0. 0. 0.]\n",
            "[uuu]\t[0. 0. 0.]\n"
          ]
        }
      ]
    },
    {
      "cell_type": "markdown",
      "source": [
        "# MPC with SINDY\n",
        "integration method"
      ],
      "metadata": {
        "id": "4t0mEKBZ2nVP"
      }
    },
    {
      "cell_type": "code",
      "source": [
        "# Runge–Kutta\n",
        "def rk4u(v, x, u, h, n, t, p):\n",
        "    for i in range(n):\n",
        "        k1 = v(t, x, u, p)\n",
        "        k2 = v(t, x + h/2*k1, u, p)\n",
        "        k3 = v(t, x + h/2*k2, u, p)\n",
        "        k4 = v(t, x + h*k3, u, p)\n",
        "        x = x + h*(k1 + 2*k2 + 2*k3 + k4)/6\n",
        "\n",
        "    return x"
      ],
      "metadata": {
        "id": "P6uEMMMEbiF8"
      },
      "execution_count": 318,
      "outputs": []
    },
    {
      "cell_type": "markdown",
      "source": [
        "prediction of future states"
      ],
      "metadata": {
        "id": "46cf_2cb2y7X"
      }
    },
    {
      "cell_type": "code",
      "source": [
        "# Sindy Prediction\n",
        "def sparseGalerkinControl_Discrete(t, y, u, p):\n",
        "\n",
        "    polyorder = p['polyorder']\n",
        "    ahat = p['ahat']\n",
        "    y_u = np.concatenate((y, u), axis=None)\n",
        "    y_u = np.reshape(y_u, (1, -1))\n",
        "\n",
        "\n",
        "    yPool = buildTheta(y_u, p['nvar'], polyorder)\n",
        "    ykplus1 = np.dot(yPool, ahat)\n",
        "    return ykplus1[0]\n"
      ],
      "metadata": {
        "id": "HqUOoEcib0Ey"
      },
      "execution_count": 319,
      "outputs": []
    },
    {
      "cell_type": "markdown",
      "source": [
        "test"
      ],
      "metadata": {
        "id": "j2Phr6cci65U"
      }
    },
    {
      "cell_type": "code",
      "source": [
        "# sparseGalerkinControl_Discrete test\n",
        "\n",
        "# pest = {}\n",
        "# pest['ahat'] = Xi[:,0:2]\n",
        "# pest['polyorder'] = polyorder\n",
        "# pest['nvar'] = nvar\n",
        "# y = np.array([20,30])\n",
        "# u = 16\n",
        "# t = 0\n",
        "# sparseGalerkinControl_Discrete(t, y, u, pest)"
      ],
      "metadata": {
        "id": "A54H7Ny4T378"
      },
      "execution_count": 320,
      "outputs": []
    },
    {
      "cell_type": "code",
      "source": [
        "# Objective function\n",
        "def lotkaObjectiveFCN(u, x, Ts, N, xref, u0, p, Q, R, Ru):\n",
        "    xk = x\n",
        "    uk = u[0]\n",
        "    J = 0\n",
        "\n",
        "    for ct in np.arange(N):\n",
        "        # Obtain plant state at next prediction step\n",
        "\n",
        "        # xk1 = rk4u(sparseGalerkinControl_Discrete, xk, uk, Ts, 1, [], p)\n",
        "        sol = solve_ivp(\n",
        "          sparseGalerkinControl_Discrete,\n",
        "          [0, 0.1],\n",
        "          xk,\n",
        "          args = (uk,p),\n",
        "          max_step = 0.1)\n",
        "\n",
        "        xk1 = sol.y[:,-1]\n",
        "\n",
        "        # Accumulate state tracking cost from x(k+1) to x(k+N)\n",
        "        J = J + (xk1 - xref) @ Q @ np.transpose(xk1 - xref)\n",
        "\n",
        "        # Accumulate MV rate of change cost from u(k) to u(k+N-1)\n",
        "        if ct == 0:\n",
        "            # J = J + np.transpose(uk - u0) @ R @ (uk - u0) + np.transpose(uk) @ Ru @ uk\n",
        "            J = J + (uk - u0) * R * (uk - u0) + uk * Ru * uk\n",
        "\n",
        "        else:\n",
        "            # J = J + np.transpose(uk - u[ct-1]) @ R @ (uk - u[ct-1]) + np.transpose(uk) @ Ru @ uk\n",
        "\n",
        "            J = J + (uk - u[ct-1]) * R * (uk - u[ct-1]) + uk * Ru * uk\n",
        "        # Update xk and uk for the next prediction step\n",
        "        xk = xk1\n",
        "        if ct < N - 1:\n",
        "            uk = u[ct + 1]\n",
        "\n",
        "    return J.item()"
      ],
      "metadata": {
        "id": "ZuGaWckVaaIN"
      },
      "execution_count": 321,
      "outputs": []
    },
    {
      "cell_type": "markdown",
      "source": [
        "test"
      ],
      "metadata": {
        "id": "j9tQqz5ui4Zt"
      }
    },
    {
      "cell_type": "code",
      "source": [
        "# lotkaObjectiveFCN test\n",
        "\n",
        "# pest = {}\n",
        "# pest['ahat'] = Xi[:,0:2]\n",
        "# pest['polyorder'] = polyorder\n",
        "# pest['nvar'] = nvar\n",
        "# u = np.array([[0.6],[0.5],[0.4],[0.3]])\n",
        "# x = np.array([[86],[10]])\n",
        "# Ts = 0.1\n",
        "# N = 4\n",
        "# xref = np.array([[100],[20]])\n",
        "# u0 = 0.7\n",
        "# Q = np.array([[1 , 0],[0 , 0]])\n",
        "# R = 0.5\n",
        "# Ru = 0.5\n",
        "# lotkaObjectiveFCN(u, x, Ts, N, xref, u0, pest, Q, R, Ru)"
      ],
      "metadata": {
        "id": "JwYiS2Sue_iE"
      },
      "execution_count": 322,
      "outputs": []
    },
    {
      "cell_type": "markdown",
      "source": [
        "Constraint function to specify lower bound population of pray"
      ],
      "metadata": {
        "id": "iCZJ5qLj261-"
      }
    },
    {
      "cell_type": "code",
      "source": [
        "def lotkaConstraintFCN(u, x, Ts, N, p):\n",
        "    zMin = 10                            # minimum population size\n",
        "    c = np.zeros((N))\n",
        "    xk = x\n",
        "    uk = u[0]\n",
        "    for ct in np.arange(N):\n",
        "\n",
        "        # xk1 = rk4u(sparseGalerkinControl_Discrete, xk, uk, Ts, 1, [], p)\n",
        "        sol = solve_ivp(\n",
        "          sparseGalerkinControl_Discrete,\n",
        "          [0, 0.1],\n",
        "          xk,\n",
        "          args = (uk,p),\n",
        "          max_step = 0.1)\n",
        "\n",
        "        xk1 = sol.y[:,-1]\n",
        "        c[ct] = xk1[1] - zMin            # inequality constraint which should be more than zero\n",
        "        xk = xk1\n",
        "        if ct < N - 1:\n",
        "            uk = u[ct + 1]\n",
        "\n",
        "    return c"
      ],
      "metadata": {
        "id": "BJRJyUFngWOq"
      },
      "execution_count": 323,
      "outputs": []
    },
    {
      "cell_type": "markdown",
      "source": [
        "test"
      ],
      "metadata": {
        "id": "oR6z4k_Oi_wM"
      }
    },
    {
      "cell_type": "code",
      "source": [
        "# lotkaConstraintFCN test\n",
        "\n",
        "# pest = {}\n",
        "# pest['ahat'] = Xi[:,0:2]\n",
        "# pest['polyorder'] = polyorder\n",
        "# pest['nvar'] = nvar\n",
        "# u = np.array([[0.6],[0.5],[0.4],[0.3]])\n",
        "# x = np.array([[86],[10]])\n",
        "# Ts = 0.1\n",
        "# N = 4\n",
        "\n",
        "# lotkaConstraintFCN(u, x, Ts, N, pest)"
      ],
      "metadata": {
        "id": "gi6_Iq4ZlEJq"
      },
      "execution_count": 324,
      "outputs": []
    },
    {
      "cell_type": "markdown",
      "source": [
        "# SINDY-MPC Algorithm"
      ],
      "metadata": {
        "id": "aecrWOdVi9D7"
      }
    },
    {
      "cell_type": "code",
      "source": [
        "pest = {}\n",
        "pest['ahat'] = Xi[:,0:2]\n",
        "pest['polyorder'] = polyorder\n",
        "pest['nvar'] = nvar\n",
        "\n",
        "\n",
        "Ts = 0.1              # Time step\n",
        "N = 25                # Control Horizen\n",
        "Duration = 50\n",
        "Nvar = 2\n",
        "\n",
        "# Weight matrices\n",
        "Q = np.array([1,0])\n",
        "R = 0.5\n",
        "Ru = 0.5\n",
        "\n",
        "# initial state\n",
        "x0n=np.array([60,50])\n",
        "uopt0 = 0\n",
        "\n",
        "a = .5\n",
        "b = .025\n",
        "d = .005\n",
        "g = .5\n",
        "\n",
        "\n",
        "xref1=np.array([g/d,a/b])\n",
        "\n",
        "# Start simulation\n",
        "print('Simulation started. It might take a while...')\n",
        "x = x0n\n",
        "Ton = 15  # Time when control starts\n",
        "uopt = uopt0 * np.ones(N)\n",
        "xHistory = np.array([x])  # Stores state history\n",
        "uHistory = np.array([uopt[0]])  # Stores control history\n",
        "tHistory = np.array([0])  # Stores time history\n",
        "jHistory = np.array([0])  # Stores cost history\n",
        "\n",
        "\n",
        "for ct in np.arange(int(Duration / Ts)):  # For each iteration: take measurements & optimize control input & apply control input\n",
        "\n",
        "    if ct % 20 == 0:\n",
        "      print(f'iteration #: {ct}')\n",
        "\n",
        "    if ct * Ts > Ton:  # Turn control on\n",
        "        if ct * Ts == Ton:\n",
        "            print('Start control.')\n",
        "\n",
        "        # Set references\n",
        "        xref = xref1\n",
        "\n",
        "        # Define the constraints\n",
        "        cons = {'type': 'ineq',\n",
        "       'fun': lotkaConstraintFCN,\n",
        "       'args': (x, Ts, N, pest)}\n",
        "\n",
        "\n",
        "        # Find Optimum u\n",
        "        optans = minimize(\n",
        "            lotkaObjectiveFCN,\n",
        "            uopt,\n",
        "            args = (x, Ts, N, xref, uopt[0], pest, np.diag(Q), R, Ru),\n",
        "            method='SLSQP',\n",
        "            constraints=cons,\n",
        "            tol=1e-3\n",
        "            )\n",
        "\n",
        "\n",
        "        uopt= optans.x\n",
        "        j = optans.fun\n",
        "\n",
        "\n",
        "    else:  # If control is off\n",
        "        uopt = uopt0 * np.ones(N)\n",
        "        j=0\n",
        "\n",
        "\n",
        "    # x = rk4u(fff, x, uopt[0], Ts, 1, ct*Ts , pest)  # step forward with optimal control\n",
        "    sol = solve_ivp(\n",
        "      fff,\n",
        "      [ct * Ts-0.1, ct * Ts],\n",
        "      x,\n",
        "      args = (uopt[0],pest),\n",
        "      max_step = 0.1)\n",
        "\n",
        "    x = sol.y[:,-1]\n",
        "\n",
        "    xHistory = np.append(xHistory, [x], axis=0) # # Stores state history\n",
        "    uHistory = np.append(uHistory, [uopt[0]]) # Stores control history\n",
        "    tHistory = np.append(tHistory, [tHistory[-1] + Ts / 1]) # Stores time history\n",
        "    jHistory = np.append(jHistory, [j], axis=0) # Stores cost history\n",
        "\n",
        "print('Simulation finished!')"
      ],
      "metadata": {
        "id": "KffJF7_wNZtR",
        "colab": {
          "base_uri": "https://localhost:8080/"
        },
        "outputId": "97065d25-46c0-4809-96d7-7018bfd9cb70"
      },
      "execution_count": 325,
      "outputs": [
        {
          "output_type": "stream",
          "name": "stdout",
          "text": [
            "Simulation started. It might take a while...\n",
            "iteration #: 0\n",
            "iteration #: 20\n",
            "iteration #: 40\n",
            "iteration #: 60\n",
            "iteration #: 80\n",
            "iteration #: 100\n",
            "iteration #: 120\n",
            "iteration #: 140\n",
            "iteration #: 160\n",
            "iteration #: 180\n",
            "iteration #: 200\n",
            "iteration #: 220\n",
            "iteration #: 240\n",
            "iteration #: 260\n",
            "iteration #: 280\n",
            "iteration #: 300\n",
            "iteration #: 320\n",
            "iteration #: 340\n",
            "iteration #: 360\n",
            "iteration #: 380\n",
            "iteration #: 400\n",
            "iteration #: 420\n",
            "iteration #: 440\n",
            "iteration #: 460\n",
            "iteration #: 480\n",
            "Simulation finished!\n"
          ]
        }
      ]
    },
    {
      "cell_type": "code",
      "source": [
        "fig, ax1 = plt.subplots()\n",
        "ax1.plot(tHistory,xHistory[:,0], '-', color=[0, 0, 0.7], linewidth=2)\n",
        "ax1.plot(tHistory,xHistory[:,1], '-', color=[0.7, 0.1, 0], linewidth=2)\n",
        "ax1.set_xlabel('time')\n",
        "ax1.set_ylabel('population size')\n",
        "plt.show()"
      ],
      "metadata": {
        "id": "SUYDtWJqehI9",
        "colab": {
          "base_uri": "https://localhost:8080/",
          "height": 449
        },
        "outputId": "97ef23ab-bf10-496a-927e-0932707e611f"
      },
      "execution_count": 326,
      "outputs": [
        {
          "output_type": "display_data",
          "data": {
            "text/plain": [
              "<Figure size 640x480 with 1 Axes>"
            ],
            "image/png": "[encoded data removed]"
          },
          "metadata": {}
        }
      ]
    },
    {
      "cell_type": "code",
      "source": [
        "fig, ax2 = plt.subplots()\n",
        "t = np.linspace(0, 100, 1000)\n",
        "ax2.plot(tHistory[303:],jHistory[303:], '-', color=[0, 0, 0.7], linewidth=2)\n",
        "ax2.set_xlabel('time')\n",
        "ax2.set_ylabel('cost')\n",
        "plt.show()"
      ],
      "metadata": {
        "id": "tv--SWtmcr5X",
        "colab": {
          "base_uri": "https://localhost:8080/",
          "height": 449
        },
        "outputId": "ab40ea6b-beb1-4fe2-ee39-acffa0ccc828"
      },
      "execution_count": 327,
      "outputs": [
        {
          "output_type": "display_data",
          "data": {
            "text/plain": [
              "<Figure size 640x480 with 1 Axes>"
            ],
            "image/png": "[encoded data removed]"
          },
          "metadata": {}
        }
      ]
    }
  ]
}