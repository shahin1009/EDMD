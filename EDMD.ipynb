{
  "cells": [
    {
      "cell_type": "markdown",
      "metadata": {
        "id": "view-in-github",
        "colab_type": "text"
      },
      "source": [
        "<a href=\"https://colab.research.google.com/github/shahin1009/EDMD/blob/main/EDMD.ipynb\" target=\"_parent\"><img src=\"https://colab.research.google.com/assets/colab-badge.svg\" alt=\"Open In Colab\"/></a>"
      ]
    },
    {
      "cell_type": "markdown",
      "source": [
        "# Extended Dynamic Mode Decomposition (EDMD)\n",
        "###(basically for finding koopman eignfuncions)\n",
        "\n",
        "## Introduction:\n",
        "This notebook presents an in-depth analysis of nonlinear dynamical systems, focusing on performing data-driven analysis. The notebook covers different stages of analysis, starting from the numerical integration of ordinary differential equations (ODEs) to the implementation of the Extended Dynamic Mode Decomposition (EDMD) method."
      ],
      "metadata": {
        "id": "rMbAiidnlCIU"
      }
    },
    {
      "cell_type": "markdown",
      "source": [
        "Suppose you have dynamic measurements of a system, **specifically y and dy**. First you need to build a dictinary of observables using the data"
      ],
      "metadata": {
        "id": "co6HBW0XmVcG"
      }
    },
    {
      "cell_type": "markdown",
      "source": [
        "## Building the dictionary of observables\n",
        "\n"
      ],
      "metadata": {
        "id": "kdjEA0e95g85"
      }
    },
    {
      "cell_type": "code",
      "execution_count": 76,
      "metadata": {
        "id": "0hlNWKhJLteT"
      },
      "outputs": [],
      "source": [
        "import numpy as np\n",
        "\n",
        "def buildTheta(yin, nVars, polyorder):\n",
        "\n",
        "\n",
        "    \"\"\"\n",
        "    Builds a polynomial dictionary from input data.\n",
        "\n",
        "    Args:\n",
        "        yin: Input data.\n",
        "        nVars: Number of input variables.\n",
        "        polyorder: Polynomial order.\n",
        "\n",
        "    Returns:\n",
        "        Polynomial dictionary.\n",
        "    \"\"\"\n",
        "\n",
        "    n = yin.shape[0]\n",
        "    ind = 0\n",
        "    yout = np.zeros((n, nVars))\n",
        "\n",
        "    # Copy input variables to output\n",
        "    for i in np.arange(nVars):\n",
        "        yout[:, ind] = yin[:, i]\n",
        "        ind += 1\n",
        "\n",
        "    if polyorder >= 2:\n",
        "        # Polynomial order 2\n",
        "        for i in np.arange(nVars):\n",
        "            for j in np.arange(i, nVars):\n",
        "                new_col = yin[:, i] * yin[:, j]\n",
        "                yout = np.append(yout, new_col.reshape(-1, 1), 1)\n",
        "                ind += 1\n",
        "\n",
        "    if polyorder >= 3:\n",
        "        # Polynomial order 3\n",
        "        for i in np.arange(nVars):\n",
        "            for j in np.arange(i, nVars):\n",
        "                for k in np.arange(j, nVars):\n",
        "                    new_col = yin[:, i] * yin[:, j] * yin[:, k]\n",
        "                    yout = np.append(yout, new_col.reshape(-1, 1), 1)\n",
        "                    ind += 1\n",
        "\n",
        "    if polyorder >= 4:\n",
        "        # Polynomial order 4\n",
        "        for i in np.arange(nVars):\n",
        "            for j in np.arange(i, nVars):\n",
        "                for k in np.arange(j, nVars):\n",
        "                    for l in np.arange(k, nVars):\n",
        "                        new_col = yin[:, i] * yin[:, j] * yin[:, k] * yin[:, l]\n",
        "                        yout = np.append(yout, new_col.reshape(-1, 1), 1)\n",
        "                        ind += 1\n",
        "\n",
        "\n",
        "    return yout\n"
      ]
    },
    {
      "cell_type": "code",
      "execution_count": 77,
      "metadata": {
        "id": "1tW8ER8oLted"
      },
      "outputs": [],
      "source": [
        "def buildGamma(yin, ydotin, nVars, polyorder):\n",
        "    n = yin.shape[0]\n",
        "    ind = 0\n",
        "    yout = np.zeros((n, nVars))\n",
        "    for i in np.arange(nVars):\n",
        "        yout[:, ind] = ydotin[:, i]\n",
        "        ind += 1\n",
        "\n",
        "    if polyorder >= 2:\n",
        "        # poly order 2\n",
        "        for i in np.arange(nVars):\n",
        "            for j in np.arange(i, nVars):\n",
        "                new_col = ydotin[:, i] * yin[:, j] + yin[:, i] * ydotin[:, j]\n",
        "                yout = np.append(yout, new_col.reshape(-1, 1), 1)\n",
        "                ind += 1\n",
        "\n",
        "    if polyorder >= 3:\n",
        "        # poly order 3\n",
        "        for i in np.arange(nVars):\n",
        "            for j in np.arange(i, nVars):\n",
        "                for k in np.arange(j, nVars):\n",
        "                    new_col = (\n",
        "                        ydotin[:, i] * yin[:, j] * yin[:, k]\n",
        "                        + yin[:, i] * ydotin[:, j] * yin[:, k]\n",
        "                        + yin[:, i] * yin[:, j] * ydotin[:, k]\n",
        "                    )\n",
        "                    yout = np.append(yout, new_col.reshape(-1, 1), 1)\n",
        "                    ind += 1\n",
        "\n",
        "    if polyorder >= 4:\n",
        "        # poly order 4\n",
        "        for i in np.arange(nVars):\n",
        "            for j in np.arange(i, nVars):\n",
        "                for k in np.arange(j, nVars):\n",
        "                    for l in np.arange(k, nVars):\n",
        "                        new_col = (\n",
        "                            ydotin[:, i] * yin[:, j] * yin[:, k] * yin[:, l]\n",
        "                            + yin[:, i] * ydotin[:, j] * yin[:, k] * yin[:, l]\n",
        "                            + yin[:, i] * yin[:, j] * ydotin[:, k] * yin[:, l]\n",
        "                            + yin[:, i] * yin[:, j] * yin[:, k] * ydotin[:, l]\n",
        "                        )\n",
        "                        yout = np.append(yout, new_col.reshape(-1, 1), 1)\n",
        "                        ind += 1\n",
        "\n",
        "    return yout\n"
      ]
    },
    {
      "cell_type": "markdown",
      "source": [
        "## For printing purposes:"
      ],
      "metadata": {
        "id": "fGD9aRbi5xUG"
      }
    },
    {
      "cell_type": "code",
      "source": [
        "import numpy as np\n",
        "\n",
        "def poolDataLIST(yin, ahat, nVars, polyorder):\n",
        "    n = len(yin)+1\n",
        "    ind = 0\n",
        "    yout = []\n",
        "\n",
        "    for i in range(nVars):\n",
        "        yout.append([yin[i]])\n",
        "        ind += 1\n",
        "\n",
        "    if polyorder >= 2:\n",
        "        for i in range(nVars):\n",
        "            for j in range(i, nVars):\n",
        "                yout.append([yin[i], yin[j]])\n",
        "                ind += 1\n",
        "\n",
        "    if polyorder >= 3:\n",
        "        for i in range(nVars):\n",
        "            for j in range(i, nVars):\n",
        "                for k in range(j, nVars):\n",
        "                    yout.append([yin[i], yin[j], yin[k]])\n",
        "                    ind += 1\n",
        "\n",
        "    if polyorder >= 4:\n",
        "        for i in range(nVars):\n",
        "            for j in range(i, nVars):\n",
        "                for k in range(j, nVars):\n",
        "                    for l in range(k, nVars):\n",
        "                        yout.append([yin[i], yin[j], yin[k], yin[l]])\n",
        "                        ind += 1\n",
        "\n",
        "    if polyorder >= 5:\n",
        "        for i in range(nVars):\n",
        "            for j in range(i, nVars):\n",
        "                for k in range(j, nVars):\n",
        "                    for l in range(k, nVars):\n",
        "                        for m in range(l, nVars):\n",
        "                            yout.append([yin[i], yin[j], yin[k], yin[l], yin[m]])\n",
        "                            ind += 1\n",
        "\n",
        "    output = yout\n",
        "\n",
        "    for item1, item2 in zip(output, ahat):\n",
        "      print(f'{item1}\\t{item2}'.replace(\", \", \"\").replace(\"'\", \"\"))\n",
        "    return output\n"
      ],
      "metadata": {
        "id": "sL0HyhUNNFcT"
      },
      "execution_count": 78,
      "outputs": []
    },
    {
      "cell_type": "markdown",
      "source": [
        "## Generating the data from a known dynamic\n",
        "\n",
        "\\begin{align*}\n",
        "\\dot{x} &= y \\\\\n",
        "\\dot{y} &= x - x^3 \\\\\n",
        "\\end{align*}"
      ],
      "metadata": {
        "id": "yFcNQ9mR59n2"
      }
    },
    {
      "cell_type": "code",
      "execution_count": 79,
      "metadata": {
        "id": "-u-Lqx0TLtej"
      },
      "outputs": [],
      "source": [
        "from scipy.integrate import odeint\n",
        "from scipy.linalg import svd\n",
        "\n",
        "def f(q, t):\n",
        "    x, y = q\n",
        "    return [y, x-x**3]\n",
        "\n",
        "def solve(ic,t):\n",
        "    sol = odeint(f, ic, t)\n",
        "    return sol\n",
        "\n",
        "t = np.linspace(0, 10, 10000)\n",
        "x0 = np.array([0, -2.8])\n",
        "y=solve(x0,t)\n",
        "dy = np.array(f(y.T,t)).T"
      ]
    },
    {
      "cell_type": "code",
      "source": [
        "import matplotlib.pyplot as plt\n",
        "\n",
        "# Plotting the data\n",
        "plt.plot(t, y[:,0], color='green', label='y')\n",
        "plt.plot(t, y[:,1], color='blue', label='x-x**3')\n",
        "\n",
        "# Adding labels and title\n",
        "plt.xlabel('Time')\n",
        "plt.ylabel('states')\n",
        "plt.title('Plot of Two Lines')\n",
        "\n",
        "# Adding a legend\n",
        "plt.legend()\n",
        "\n",
        "# Displaying the plot\n",
        "plt.show()"
      ],
      "metadata": {
        "colab": {
          "base_uri": "https://localhost:8080/",
          "height": 472
        },
        "id": "p0oivrpydqMP",
        "outputId": "5a1dd6bb-9fbb-484b-b458-f2d9bc78ea90"
      },
      "execution_count": 80,
      "outputs": [
        {
          "output_type": "display_data",
          "data": {
            "text/plain": [
              "<Figure size 640x480 with 1 Axes>"
            ],
            "image/png": "[encoded data removed]"
          },
          "metadata": {}
        }
      ]
    },
    {
      "cell_type": "markdown",
      "source": [
        "## Extended Dynamic Mode Decomposition (EDMD) using Singular Value Decomposition (SVD):\n",
        "\n",
        "1- Specify the desired polynomial order (polyorder) and number of variables (nvar) for the EDMD.\n",
        "\n",
        "2- Build the library matrix Theta using the data y, number of variables, and polynomial order. The library matrix captures the polynomial basis functions of the data.\n",
        "\n",
        "3- Build the library matrix Gamma using the data y and its derivative dy, along with the number of variables and polynomial order. The library matrix Gamma captures the polynomial basis functions of the time derivatives.\n",
        "\n",
        "4- Perform Singular Value Decomposition (SVD) on the difference between a zero matrix and the library matrix Theta multiplied by a scalar Gamma. This step helps identify the dominant modes in the data.\n",
        "\n",
        "5- Extract the last row of the right singular vectors matrix V (corresponding to the smallest singular value) and assign it to the sparse vector xi0. The sparse vector represents the coefficients of the dominant modes.\n",
        "\n",
        "6- Set small values in xi0 to zero.\n",
        "\n",
        "7- Generate the output using the sparse vector xi0 by calling poolDataLIST() with the appropriate arguments. This step constructs the output using the identified sparse coefficients."
      ],
      "metadata": {
        "id": "WnBYOS1-6D4T"
      }
    },
    {
      "cell_type": "code",
      "source": [
        "# Construct libraries\n",
        "polyorder = 4\n",
        "nvar = 2\n",
        "\n",
        "# Build the library matrix Theta\n",
        "Theta = buildTheta(y, nvar, polyorder)\n",
        "\n",
        "# Build the library matrix Gamma\n",
        "Gamma = buildGamma(y, dy, nvar, polyorder)\n",
        "\n",
        "# Perform SVD\n",
        "U, S, V = svd(0 * Theta - Gamma, full_matrices=False)\n",
        "\n",
        "# Extract the sparse vector xi0\n",
        "xi0 = V[-1, :]\n",
        "xi0[np.abs(xi0) < 1e-3] = 0\n",
        "\n",
        "# Generate the output using the sparse vector\n",
        "output = poolDataLIST(['x', 'y', 'z'], xi0, nvar, polyorder)\n"
      ],
      "metadata": {
        "colab": {
          "base_uri": "https://localhost:8080/"
        },
        "id": "VQfdgwAuP8aU",
        "outputId": "fc26e0ab-2f97-4707-9007-a4df99ba241d"
      },
      "execution_count": 81,
      "outputs": [
        {
          "output_type": "stream",
          "name": "stdout",
          "text": [
            "[x]\t0.0\n",
            "[y]\t0.0\n",
            "[xx]\t-0.6666666666666667\n",
            "[xy]\t0.0\n",
            "[yy]\t0.6666666666666669\n",
            "[xxx]\t0.0\n",
            "[xxy]\t0.0\n",
            "[xyy]\t0.0\n",
            "[yyy]\t0.0\n",
            "[xxxx]\t0.33333333333333337\n",
            "[xxxy]\t0.0\n",
            "[xxyy]\t0.0\n",
            "[xyyy]\t0.0\n",
            "[yyyy]\t0.0\n"
          ]
        }
      ]
    },
    {
      "cell_type": "markdown",
      "source": [
        "This is the Hamiltonian of the system!\n",
        "\n",
        "$H = \\frac{1}{2}y^2 - \\frac{1}{2}x^2 + \\frac{1}{4}x^4$\n"
      ],
      "metadata": {
        "id": "rS2MwYrGqW1t"
      }
    },
    {
      "cell_type": "markdown",
      "source": [
        "## least-squares Koopman algorithm breakdown:\n",
        "\n",
        "1-Specify the desired polynomial order (polyorder) and number of variables (nvar).\n",
        "\n",
        "2-Build the library matrix Theta using the data y and the specified number of variables and polynomial order.\n",
        "\n",
        "3-Build the library matrix Gamma using the data y and its derivative dy, along with the specified number of variables and polynomial order.\n",
        "\n",
        "4-Compute the Koopman operator K using the pseudo-inverse of Theta multiplied by Gamma. **This step is the core of the least-squares approach.**\n",
        "\n",
        "5-Set small values in K to zero to enhance numerical stability.\n",
        "\n",
        "6-Compute the eigenvalues (D) and eigenvectors (T) of K using np.linalg.eig().\n",
        "\n",
        "7-Sort the eigenvalues (D) in ascending order and obtain the sorted indices (IX) using np.argsort().\n",
        "\n",
        "8-Extract the eigenvector corresponding to the smallest eigenvalue from the eigenvector matrix T and assign it to xi1.\n",
        "\n",
        "\n",
        "9-Generate the output using the absolute value of xi1 by calling poolDataLIST() to get the polynomial coefficients."
      ],
      "metadata": {
        "id": "79b5yiMSfz3H"
      }
    },
    {
      "cell_type": "code",
      "source": [
        "# Define the desired polynomial order and number of variables\n",
        "polyorder = 4\n",
        "nvar = 2\n",
        "\n",
        "# Build the library matrix Theta from data (y)\n",
        "Theta = buildTheta(y, nvar, polyorder)\n",
        "\n",
        "# Build the library matrix Gamma from data (y and dy)\n",
        "Gamma = buildGamma(y, dy, nvar, polyorder)\n",
        "\n",
        "# Compute the Koopman operator using the least-squares approach\n",
        "K = np.linalg.pinv(Theta) @ Gamma\n",
        "\n",
        "# Set small values in K to zero for numerical stability\n",
        "K[np.abs(K) < 1e-12] = 0\n",
        "\n",
        "# Compute the eigenvalues (D) and eigenvectors (T) of K\n",
        "D, T = np.linalg.eig(K)\n",
        "\n",
        "# Sort the eigenvalues (D) in ascending order and obtain the sorted indices (IX)\n",
        "IX = np.argsort(np.abs(D))\n",
        "\n",
        "# Extract the eigenvector (xi1) corresponding to the smallest eigenvalue\n",
        "xi1 = T[:, IX[0]]\n",
        "\n",
        "# Set small values in xi1 to zero for numerical stability\n",
        "xi1[np.abs(xi1) < 1e-12] = 0\n",
        "\n",
        "# Generate the output using the absolute value of xi1\n",
        "output = poolDataLIST(['x', 'y'], abs(xi1), nvar, polyorder)\n"
      ],
      "metadata": {
        "colab": {
          "base_uri": "https://localhost:8080/"
        },
        "id": "SlS1No4kCt4Y",
        "outputId": "7a68d8e6-aee5-4a54-e02f-7c9b09a34715"
      },
      "execution_count": 82,
      "outputs": [
        {
          "output_type": "stream",
          "name": "stdout",
          "text": [
            "[x]\t0.0\n",
            "[y]\t0.0\n",
            "[xx]\t0.6666666666666792\n",
            "[xy]\t0.0\n",
            "[yy]\t0.6666666666666536\n",
            "[xxx]\t0.0\n",
            "[xxy]\t0.0\n",
            "[xyy]\t0.0\n",
            "[yyy]\t0.0\n",
            "[xxxx]\t0.33333333333333426\n",
            "[xxxy]\t0.0\n",
            "[xxyy]\t0.0\n",
            "[xyyy]\t0.0\n",
            "[yyyy]\t0.0\n"
          ]
        }
      ]
    },
    {
      "cell_type": "markdown",
      "source": [
        "SINDY: this is the same Idea as least square, the only diffrence is that it find the main dynamics instead of the Hamiltonian"
      ],
      "metadata": {
        "id": "Q-f2APN3zlii"
      }
    },
    {
      "cell_type": "code",
      "source": [
        "def sparsifyDynamics(Theta,dXdt,lamb,n):\n",
        "    Xi = np.linalg.lstsq(Theta,dXdt,rcond=None)[0] # Initial guess: Least-squares\n",
        "    \n",
        "    for k in range(10):\n",
        "        smallinds = np.abs(Xi) < lamb # Find small coefficients\n",
        "        Xi[smallinds] = 0                          # and threshold\n",
        "        for ind in range(n):                       # n is state dimension\n",
        "            biginds = smallinds[:,ind] == 0\n",
        "            # Regress dynamics onto remaining terms to find sparse Xi\n",
        "            Xi[biginds,ind] = np.linalg.lstsq(Theta[:,biginds],dXdt[:,ind],rcond=None)[0]\n",
        "            \n",
        "    return Xi"
      ],
      "metadata": {
        "id": "-DxLJfHizlLi"
      },
      "execution_count": 83,
      "outputs": []
    },
    {
      "cell_type": "code",
      "source": [
        "polyorder = 4\n",
        "nvar = 2\n",
        "Theta = buildTheta(y, nvar, polyorder)\n",
        "lamb = 0.025 # sparsification knob lambda\n",
        "Xi = sparsifyDynamics(Theta,dy,lamb,nvar)\n",
        "\n",
        "output = poolDataLIST(['x', 'y', 'z'], Xi, nvar, polyorder)"
      ],
      "metadata": {
        "id": "p2DUQy2tzu53",
        "outputId": "39a1aba9-1b20-41c7-9d3b-3098a8b06ba0",
        "colab": {
          "base_uri": "https://localhost:8080/"
        }
      },
      "execution_count": 84,
      "outputs": [
        {
          "output_type": "stream",
          "name": "stdout",
          "text": [
            "[x]\t[0. 1.]\n",
            "[y]\t[1. 0.]\n",
            "[xx]\t[0. 0.]\n",
            "[xy]\t[0. 0.]\n",
            "[yy]\t[0. 0.]\n",
            "[xxx]\t[ 0. -1.]\n",
            "[xxy]\t[0. 0.]\n",
            "[xyy]\t[0. 0.]\n",
            "[yyy]\t[0. 0.]\n",
            "[xxxx]\t[0. 0.]\n",
            "[xxxy]\t[0. 0.]\n",
            "[xxyy]\t[0. 0.]\n",
            "[xyyy]\t[0. 0.]\n",
            "[yyyy]\t[0. 0.]\n"
          ]
        }
      ]
    },
    {
      "cell_type": "markdown",
      "source": [
        "first column is the dynamic coefficients of $\\dot{x}$\n",
        "\n",
        "second column is the dynamic coefficients of $\\dot{y}$"
      ],
      "metadata": {
        "id": "EZ7NlxyT1jNd"
      }
    },
    {
      "cell_type": "markdown",
      "source": [
        "## Same thing for Lorenz:\n",
        "\n",
        "For better results, we need better dataset for lorenz system. The accuracy and effectiveness of EDMD for the Lorenz system, or any other system, depend on several factors such as **the quality and quantity of the data**, the choice of basis functions, the selection of the polynomial order, and the presence of noise or modeling errors.\n",
        "\n",
        "\n",
        "\\begin{align*}\n",
        "\\dot{x} &= \\sigma (y - x) \\\\\n",
        "\\dot{y} &= x (\\rho - z) - y \\\\\n",
        "\\dot{z} &= xy - \\beta z \\\\\n",
        "\\end{align*}"
      ],
      "metadata": {
        "id": "gVrVMKVw6I-0"
      }
    },
    {
      "cell_type": "code",
      "source": [
        "# Lorenz Derivitive\n",
        "def lorenz_deriv(x_y_z, t0, sigma=10, beta=8/3, rho=28):\n",
        "    # Unpack the input variables\n",
        "    x, y, z = x_y_z\n",
        "\n",
        "    # Compute the derivatives\n",
        "    dx_dt = sigma * (y - x)\n",
        "    dy_dt = x * (rho - z) - y\n",
        "    dz_dt = x * y - beta * z\n",
        "\n",
        "    # Return the derivatives\n",
        "    return [dx_dt, dy_dt, dz_dt]\n",
        "\n",
        "\n",
        "def solve_lorenz(ic, t, sigma=10, beta=8/3, rho=28):\n",
        "    # Solve the Lorenz system of equations using odeint\n",
        "    sol = odeint(lorenz_deriv, ic, t, args=(sigma, beta, rho))\n",
        "    return sol\n",
        "\n",
        "# Define the time steps for integration\n",
        "t = np.linspace(0, 100, 100000)\n",
        "\n",
        "# Set the initial conditions\n",
        "x0 = [0, 1, 0]\n",
        "\n",
        "# Solve the Lorenz system\n",
        "y = solve_lorenz(x0, t)\n",
        "\n",
        "# Compute the derivative of the solution\n",
        "dy = np.array(lorenz_deriv(y.T, t)).T"
      ],
      "metadata": {
        "id": "SaU_WmO4dRs2"
      },
      "execution_count": 85,
      "outputs": []
    },
    {
      "cell_type": "markdown",
      "source": [
        "SINDY:"
      ],
      "metadata": {
        "id": "_amNSxyFz5E8"
      }
    },
    {
      "cell_type": "code",
      "source": [
        "polyorder = 3\n",
        "nvar = 3\n",
        "lamb = 0.025 # sparsification knob lambda\n",
        "Theta = buildTheta(y, nvar, polyorder)\n",
        "Xi = sparsifyDynamics(Theta,dy,lamb,nvar)\n",
        "\n",
        "output = poolDataLIST(['x', 'y', 'z'], Xi, nvar, polyorder)"
      ],
      "metadata": {
        "id": "IoQf-IwcwTRc",
        "outputId": "507be9f7-fa3d-4230-a9f7-b1df2d8c72b8",
        "colab": {
          "base_uri": "https://localhost:8080/"
        }
      },
      "execution_count": 86,
      "outputs": [
        {
          "output_type": "stream",
          "name": "stdout",
          "text": [
            "[x]\t[-10.  28.   0.]\n",
            "[y]\t[10. -1.  0.]\n",
            "[z]\t[ 0.          0.         -2.66666667]\n",
            "[xx]\t[0. 0. 0.]\n",
            "[xy]\t[0. 0. 1.]\n",
            "[xz]\t[ 0. -1.  0.]\n",
            "[yy]\t[0. 0. 0.]\n",
            "[yz]\t[0. 0. 0.]\n",
            "[zz]\t[0. 0. 0.]\n",
            "[xxx]\t[0. 0. 0.]\n",
            "[xxy]\t[0. 0. 0.]\n",
            "[xxz]\t[0. 0. 0.]\n",
            "[xyy]\t[0. 0. 0.]\n",
            "[xyz]\t[0. 0. 0.]\n",
            "[xzz]\t[0. 0. 0.]\n",
            "[yyy]\t[0. 0. 0.]\n",
            "[yyz]\t[0. 0. 0.]\n",
            "[yzz]\t[0. 0. 0.]\n",
            "[zzz]\t[0. 0. 0.]\n"
          ]
        }
      ]
    },
    {
      "cell_type": "markdown",
      "source": [
        "first column is the dynamic coefficients of $\\dot{x}$\n",
        "\n",
        "second column is the dynamic coefficients of $\\dot{y}$\n",
        "\n",
        "third column is the dynamic coefficients of $\\dot{z}$"
      ],
      "metadata": {
        "id": "0Y_AR9dD0sb3"
      }
    },
    {
      "cell_type": "code",
      "source": [],
      "metadata": {
        "id": "3xRn7Msf0_wG"
      },
      "execution_count": 86,
      "outputs": []
    }
  ],
  "metadata": {
    "kernelspec": {
      "display_name": "Python 3",
      "language": "python",
      "name": "python3"
    },
    "language_info": {
      "name": "python",
      "version": "3.11.2"
    },
    "orig_nbformat": 4,
    "colab": {
      "provenance": [],
      "include_colab_link": true
    }
  },
  "nbformat": 4,
  "nbformat_minor": 0
}