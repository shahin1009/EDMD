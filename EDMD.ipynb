{
  "cells": [
    {
      "cell_type": "markdown",
      "metadata": {
        "id": "view-in-github",
        "colab_type": "text"
      },
      "source": [
        "<a href=\"https://colab.research.google.com/github/shahin1009/EDMD/blob/main/EDMD.ipynb\" target=\"_parent\"><img src=\"https://colab.research.google.com/assets/colab-badge.svg\" alt=\"Open In Colab\"/></a>"
      ]
    },
    {
      "cell_type": "code",
      "execution_count": null,
      "metadata": {
        "id": "0hlNWKhJLteT"
      },
      "outputs": [],
      "source": [
        "import numpy as np\n",
        "\n",
        "def buildTheta(yin, nVars, polyorder):\n",
        "\n",
        "    n = yin.shape[0]\n",
        "    ind = 0\n",
        "    yout = np.zeros((n, nVars))\n",
        "\n",
        "    # Copy input variables to output\n",
        "    for i in np.arange(nVars):\n",
        "        yout[:, ind] = yin[:, i]\n",
        "        ind += 1\n",
        "\n",
        "    if polyorder >= 2:\n",
        "        # Polynomial order 2\n",
        "        for i in np.arange(nVars):\n",
        "            for j in np.arange(i, nVars):\n",
        "                new_col = yin[:, i] * yin[:, j]\n",
        "                yout = np.append(yout, new_col.reshape(-1, 1), 1)\n",
        "                ind += 1\n",
        "\n",
        "    if polyorder >= 3:\n",
        "        # Polynomial order 3\n",
        "        for i in np.arange(nVars):\n",
        "            for j in np.arange(i, nVars):\n",
        "                for k in np.arange(j, nVars):\n",
        "                    new_col = yin[:, i] * yin[:, j] * yin[:, k]\n",
        "                    yout = np.append(yout, new_col.reshape(-1, 1), 1)\n",
        "                    ind += 1\n",
        "\n",
        "    if polyorder >= 4:\n",
        "        # Polynomial order 4\n",
        "        for i in np.arange(nVars):\n",
        "            for j in np.arange(i, nVars):\n",
        "                for k in np.arange(j, nVars):\n",
        "                    for l in np.arange(k, nVars):\n",
        "                        new_col = yin[:, i] * yin[:, j] * yin[:, k] * yin[:, l]\n",
        "                        yout = np.append(yout, new_col.reshape(-1, 1), 1)\n",
        "                        ind += 1\n",
        "\n",
        "\n",
        "    return yout\n"
      ]
    },
    {
      "cell_type": "code",
      "execution_count": null,
      "metadata": {
        "id": "1tW8ER8oLted"
      },
      "outputs": [],
      "source": [
        "def buildGamma(yin, ydotin, nVars, polyorder):\n",
        "    n = yin.shape[0]\n",
        "    ind = 0\n",
        "    yout = np.zeros((n, nVars))\n",
        "    for i in np.arange(nVars):\n",
        "        yout[:, ind] = ydotin[:, i]\n",
        "        ind += 1\n",
        "\n",
        "    if polyorder >= 2:\n",
        "        # poly order 2\n",
        "        for i in np.arange(nVars):\n",
        "            for j in np.arange(i, nVars):\n",
        "                new_col = ydotin[:, i] * yin[:, j] + yin[:, i] * ydotin[:, j]\n",
        "                yout = np.append(yout, new_col.reshape(-1, 1), 1)\n",
        "                ind += 1\n",
        "\n",
        "    if polyorder >= 3:\n",
        "        # poly order 3\n",
        "        for i in np.arange(nVars):\n",
        "            for j in np.arange(i, nVars):\n",
        "                for k in np.arange(j, nVars):\n",
        "                    new_col = (\n",
        "                        ydotin[:, i] * yin[:, j] * yin[:, k]\n",
        "                        + yin[:, i] * ydotin[:, j] * yin[:, k]\n",
        "                        + yin[:, i] * yin[:, j] * ydotin[:, k]\n",
        "                    )\n",
        "                    yout = np.append(yout, new_col.reshape(-1, 1), 1)\n",
        "                    ind += 1\n",
        "\n",
        "    if polyorder >= 4:\n",
        "        # poly order 4\n",
        "        for i in np.arange(nVars):\n",
        "            for j in np.arange(i, nVars):\n",
        "                for k in np.arange(j, nVars):\n",
        "                    for l in np.arange(k, nVars):\n",
        "                        new_col = (\n",
        "                            ydotin[:, i] * yin[:, j] * yin[:, k] * yin[:, l]\n",
        "                            + yin[:, i] * ydotin[:, j] * yin[:, k] * yin[:, l]\n",
        "                            + yin[:, i] * yin[:, j] * ydotin[:, k] * yin[:, l]\n",
        "                            + yin[:, i] * yin[:, j] * yin[:, k] * ydotin[:, l]\n",
        "                        )\n",
        "                        yout = np.append(yout, new_col.reshape(-1, 1), 1)\n",
        "                        ind += 1\n",
        "\n",
        "    return yout\n"
      ]
    },
    {
      "cell_type": "code",
      "source": [
        "import numpy as np\n",
        "\n",
        "def poolDataLIST(yin, ahat, nVars, polyorder):\n",
        "    n = len(yin)+1\n",
        "    ind = 0\n",
        "    yout = []\n",
        "\n",
        "    for i in range(nVars):\n",
        "        yout.append([yin[i]])\n",
        "        ind += 1\n",
        "\n",
        "    if polyorder >= 2:\n",
        "        for i in range(nVars):\n",
        "            for j in range(i, nVars):\n",
        "                yout.append([yin[i], yin[j]])\n",
        "                ind += 1\n",
        "\n",
        "    if polyorder >= 3:\n",
        "        for i in range(nVars):\n",
        "            for j in range(i, nVars):\n",
        "                for k in range(j, nVars):\n",
        "                    yout.append([yin[i], yin[j], yin[k]])\n",
        "                    ind += 1\n",
        "\n",
        "    if polyorder >= 4:\n",
        "        for i in range(nVars):\n",
        "            for j in range(i, nVars):\n",
        "                for k in range(j, nVars):\n",
        "                    for l in range(k, nVars):\n",
        "                        yout.append([yin[i], yin[j], yin[k], yin[l]])\n",
        "                        ind += 1\n",
        "\n",
        "    if polyorder >= 5:\n",
        "        for i in range(nVars):\n",
        "            for j in range(i, nVars):\n",
        "                for k in range(j, nVars):\n",
        "                    for l in range(k, nVars):\n",
        "                        for m in range(l, nVars):\n",
        "                            yout.append([yin[i], yin[j], yin[k], yin[l], yin[m]])\n",
        "                            ind += 1\n",
        "\n",
        "    output = yout\n",
        "\n",
        "    for item1, item2 in zip(output, ahat):\n",
        "      print(f'{item1}\\t{item2}')\n",
        "    return output\n"
      ],
      "metadata": {
        "id": "sL0HyhUNNFcT"
      },
      "execution_count": null,
      "outputs": []
    },
    {
      "cell_type": "code",
      "execution_count": null,
      "metadata": {
        "id": "-u-Lqx0TLtej"
      },
      "outputs": [],
      "source": [
        "from scipy.integrate import odeint\n",
        "from scipy.linalg import svd\n",
        "\n",
        "def f(q, t):\n",
        "    x, y = q\n",
        "    return [y, x-x**3]\n",
        "\n",
        "def solve(ic,t):\n",
        "    sol = odeint(f, ic, t)\n",
        "    return sol\n",
        "\n",
        "t = np.linspace(0, 10, 10000)\n",
        "x0 = np.array([0, -2.8])\n",
        "y=solve(x0,t)\n",
        "dy = np.array(f(y.T,t)).T"
      ]
    },
    {
      "cell_type": "code",
      "source": [
        "\n",
        "# Construct libraries\n",
        "polyorder = 4\n",
        "nvar = 2\n",
        "Theta = buildTheta(y, nvar, polyorder)\n",
        "Gamma = buildGamma(y, dy, nvar, polyorder)\n",
        "\n",
        "# Perform SVD\n",
        "U, S, V = svd(0*Theta-Gamma, full_matrices=False)\n",
        "xi0 = V[-1,:]\n",
        "xi0[np.abs(xi0) < 1e-10] = 0\n",
        "xi0\n",
        "\n",
        "output = poolDataLIST(['x', 'y'], xi0, nvar, polyorder)\n",
        "print(output)"
      ],
      "metadata": {
        "colab": {
          "base_uri": "https://localhost:8080/"
        },
        "id": "VQfdgwAuP8aU",
        "outputId": "ace6d456-760f-45c5-b7cf-3083a48946fd"
      },
      "execution_count": null,
      "outputs": [
        {
          "output_type": "stream",
          "name": "stdout",
          "text": [
            "['x']\t0.0\n",
            "['y']\t0.0\n",
            "['x', 'x']\t-0.6666666666666667\n",
            "['x', 'y']\t0.0\n",
            "['y', 'y']\t0.6666666666666669\n",
            "['x', 'x', 'x']\t0.0\n",
            "['x', 'x', 'y']\t0.0\n",
            "['x', 'y', 'y']\t0.0\n",
            "['y', 'y', 'y']\t0.0\n",
            "['x', 'x', 'x', 'x']\t0.33333333333333337\n",
            "['x', 'x', 'x', 'y']\t0.0\n",
            "['x', 'x', 'y', 'y']\t0.0\n",
            "['x', 'y', 'y', 'y']\t0.0\n",
            "['y', 'y', 'y', 'y']\t0.0\n",
            "[['x'], ['y'], ['x', 'x'], ['x', 'y'], ['y', 'y'], ['x', 'x', 'x'], ['x', 'x', 'y'], ['x', 'y', 'y'], ['y', 'y', 'y'], ['x', 'x', 'x', 'x'], ['x', 'x', 'x', 'y'], ['x', 'x', 'y', 'y'], ['x', 'y', 'y', 'y'], ['y', 'y', 'y', 'y']]\n"
          ]
        }
      ]
    },
    {
      "cell_type": "code",
      "source": [
        "def lorenz_deriv(x_y_z, t0, sigma = 10, beta = 8/3 , rho = 28):\n",
        "    x, y, z = x_y_z\n",
        "    return [sigma * (y - x), x * (rho - z) - y, x * y - beta * z]\n",
        "\n",
        "\n",
        "def solve_lorenz(ic,t ,sigma = 10, beta = 8/3 , rho = 28):\n",
        "    sol = odeint(lorenz_deriv, ic, t,args=(sigma, beta ,rho))\n",
        "    return sol\n",
        "\n",
        "t = np.linspace(0, 10, 10000)\n",
        "x0 = [0,1,0]\n",
        "y=solve_lorenz(x0,t)\n",
        "dy = np.array(lorenz_deriv(y.T,t)).T\n",
        "\n",
        "\n",
        "\n",
        "# Construct libraries\n",
        "polyorder = 3\n",
        "nvar = 3\n",
        "Theta = buildTheta(y, nvar, polyorder)\n",
        "Gamma = buildGamma(y, dy, nvar, polyorder)\n",
        "\n",
        "# Perform SVD\n",
        "U, S, V = svd(0*Theta-Gamma, full_matrices=False)\n",
        "xi0 = V[-1,:]\n",
        "xi0[np.abs(xi0) < 1e-3] = 0\n",
        "\n",
        "output = poolDataLIST(['x', 'y','z'], xi0, nvar, polyorder)\n",
        "print(output)"
      ],
      "metadata": {
        "colab": {
          "base_uri": "https://localhost:8080/"
        },
        "id": "PQRapbtRR9rO",
        "outputId": "62d24070-9bc5-4e68-9f1f-1d51089ee7d7"
      },
      "execution_count": null,
      "outputs": [
        {
          "output_type": "stream",
          "name": "stdout",
          "text": [
            "['x']\t-0.02619990612069032\n",
            "['y']\t-0.01658837900910595\n",
            "['z']\t0.9914563773429903\n",
            "['x', 'x']\t0.07195924600488096\n",
            "['x', 'y']\t0.04423858778827224\n",
            "['x', 'z']\t-0.004398121796604992\n",
            "['y', 'y']\t-0.04972581326705744\n",
            "['y', 'z']\t0.030482913672945346\n",
            "['z', 'z']\t-0.0739785830338777\n",
            "['x', 'x', 'x']\t0.0\n",
            "['x', 'x', 'y']\t0.0\n",
            "['x', 'x', 'z']\t-0.004283252926572509\n",
            "['x', 'y', 'y']\t0.0\n",
            "['x', 'y', 'z']\t0.0\n",
            "['x', 'z', 'z']\t0.0\n",
            "['y', 'y', 'y']\t0.0\n",
            "['y', 'y', 'z']\t0.0014358931389834074\n",
            "['y', 'z', 'z']\t0.0\n",
            "['z', 'z', 'z']\t0.0014466148160194592\n",
            "[['x'], ['y'], ['z'], ['x', 'x'], ['x', 'y'], ['x', 'z'], ['y', 'y'], ['y', 'z'], ['z', 'z'], ['x', 'x', 'x'], ['x', 'x', 'y'], ['x', 'x', 'z'], ['x', 'y', 'y'], ['x', 'y', 'z'], ['x', 'z', 'z'], ['y', 'y', 'y'], ['y', 'y', 'z'], ['y', 'z', 'z'], ['z', 'z', 'z']]\n"
          ]
        }
      ]
    },
    {
      "cell_type": "code",
      "source": [
        "print(V[-1,:])"
      ],
      "metadata": {
        "id": "AsWtEdLbJd9L",
        "colab": {
          "base_uri": "https://localhost:8080/"
        },
        "outputId": "fff24303-c9a8-44f2-b285-061e5ffc952c"
      },
      "execution_count": null,
      "outputs": [
        {
          "output_type": "stream",
          "name": "stdout",
          "text": [
            "[-2.61999061e-02 -1.65883790e-02  9.91456377e-01  7.19592460e-02\n",
            "  4.42385878e-02 -4.39812180e-03 -4.97258133e-02  3.04829137e-02\n",
            " -7.39785830e-02  2.74569174e-04 -1.24548641e-04 -4.28325293e-03\n",
            " -2.91085511e-04  3.94140949e-04 -3.18092213e-05 -4.81123265e-04\n",
            "  1.43589314e-03 -5.94751035e-04  1.44661482e-03]\n"
          ]
        }
      ]
    },
    {
      "cell_type": "code",
      "source": [],
      "metadata": {
        "id": "Uo8E_I37VqYo"
      },
      "execution_count": null,
      "outputs": []
    }
  ],
  "metadata": {
    "kernelspec": {
      "display_name": "Python 3",
      "language": "python",
      "name": "python3"
    },
    "language_info": {
      "name": "python",
      "version": "3.11.2"
    },
    "orig_nbformat": 4,
    "colab": {
      "provenance": [],
      "include_colab_link": true
    }
  },
  "nbformat": 4,
  "nbformat_minor": 0
}