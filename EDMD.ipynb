{
  "cells": [
    {
      "cell_type": "markdown",
      "metadata": {
        "id": "view-in-github",
        "colab_type": "text"
      },
      "source": [
        "<a href=\"https://colab.research.google.com/github/shahin1009/EDMD/blob/main/EDMD.ipynb\" target=\"_parent\"><img src=\"https://colab.research.google.com/assets/colab-badge.svg\" alt=\"Open In Colab\"/></a>"
      ]
    },
    {
      "cell_type": "markdown",
      "source": [
        "# Extended Dynamic Mode Decomposition (EDMD)\n",
        "###(basically for finding koopman eignfuncions)\n",
        "\n",
        "## Introduction:\n",
        "This notebook presents an in-depth analysis of nonlinear dynamical systems, focusing on performing data-driven analysis. The notebook covers different stages of analysis, starting from the numerical integration of ordinary differential equations (ODEs) to the implementation of the Extended Dynamic Mode Decomposition (EDMD) method."
      ],
      "metadata": {
        "id": "rMbAiidnlCIU"
      }
    },
    {
      "cell_type": "markdown",
      "source": [
        "Suppose you have dynamic measurements of a system, **specifically y and dy**. First you need to build a dictinary of observables using the data"
      ],
      "metadata": {
        "id": "co6HBW0XmVcG"
      }
    },
    {
      "cell_type": "markdown",
      "source": [
        "## Building the dictionary of observables\n",
        "\n"
      ],
      "metadata": {
        "id": "kdjEA0e95g85"
      }
    },
    {
      "cell_type": "code",
      "execution_count": null,
      "metadata": {
        "id": "0hlNWKhJLteT"
      },
      "outputs": [],
      "source": [
        "import numpy as np\n",
        "\n",
        "def buildTheta(yin, nVars, polyorder):\n",
        "\n",
        "\n",
        "    \"\"\"\n",
        "    Builds a polynomial dictionary from input data.\n",
        "\n",
        "    Args:\n",
        "        yin: Input data.\n",
        "        nVars: Number of input variables.\n",
        "        polyorder: Polynomial order.\n",
        "\n",
        "    Returns:\n",
        "        Polynomial dictionary.\n",
        "    \"\"\"\n",
        "\n",
        "    n = yin.shape[0]\n",
        "    ind = 0\n",
        "    yout = np.zeros((n, nVars))\n",
        "\n",
        "    # Copy input variables to output\n",
        "    for i in np.arange(nVars):\n",
        "        yout[:, ind] = yin[:, i]\n",
        "        ind += 1\n",
        "\n",
        "    if polyorder >= 2:\n",
        "        # Polynomial order 2\n",
        "        for i in np.arange(nVars):\n",
        "            for j in np.arange(i, nVars):\n",
        "                new_col = yin[:, i] * yin[:, j]\n",
        "                yout = np.append(yout, new_col.reshape(-1, 1), 1)\n",
        "                ind += 1\n",
        "\n",
        "    if polyorder >= 3:\n",
        "        # Polynomial order 3\n",
        "        for i in np.arange(nVars):\n",
        "            for j in np.arange(i, nVars):\n",
        "                for k in np.arange(j, nVars):\n",
        "                    new_col = yin[:, i] * yin[:, j] * yin[:, k]\n",
        "                    yout = np.append(yout, new_col.reshape(-1, 1), 1)\n",
        "                    ind += 1\n",
        "\n",
        "    if polyorder >= 4:\n",
        "        # Polynomial order 4\n",
        "        for i in np.arange(nVars):\n",
        "            for j in np.arange(i, nVars):\n",
        "                for k in np.arange(j, nVars):\n",
        "                    for l in np.arange(k, nVars):\n",
        "                        new_col = yin[:, i] * yin[:, j] * yin[:, k] * yin[:, l]\n",
        "                        yout = np.append(yout, new_col.reshape(-1, 1), 1)\n",
        "                        ind += 1\n",
        "\n",
        "\n",
        "    return yout\n"
      ]
    },
    {
      "cell_type": "code",
      "execution_count": null,
      "metadata": {
        "id": "1tW8ER8oLted"
      },
      "outputs": [],
      "source": [
        "def buildGamma(yin, ydotin, nVars, polyorder):\n",
        "    n = yin.shape[0]\n",
        "    ind = 0\n",
        "    yout = np.zeros((n, nVars))\n",
        "    for i in np.arange(nVars):\n",
        "        yout[:, ind] = ydotin[:, i]\n",
        "        ind += 1\n",
        "\n",
        "    if polyorder >= 2:\n",
        "        # poly order 2\n",
        "        for i in np.arange(nVars):\n",
        "            for j in np.arange(i, nVars):\n",
        "                new_col = ydotin[:, i] * yin[:, j] + yin[:, i] * ydotin[:, j]\n",
        "                yout = np.append(yout, new_col.reshape(-1, 1), 1)\n",
        "                ind += 1\n",
        "\n",
        "    if polyorder >= 3:\n",
        "        # poly order 3\n",
        "        for i in np.arange(nVars):\n",
        "            for j in np.arange(i, nVars):\n",
        "                for k in np.arange(j, nVars):\n",
        "                    new_col = (\n",
        "                        ydotin[:, i] * yin[:, j] * yin[:, k]\n",
        "                        + yin[:, i] * ydotin[:, j] * yin[:, k]\n",
        "                        + yin[:, i] * yin[:, j] * ydotin[:, k]\n",
        "                    )\n",
        "                    yout = np.append(yout, new_col.reshape(-1, 1), 1)\n",
        "                    ind += 1\n",
        "\n",
        "    if polyorder >= 4:\n",
        "        # poly order 4\n",
        "        for i in np.arange(nVars):\n",
        "            for j in np.arange(i, nVars):\n",
        "                for k in np.arange(j, nVars):\n",
        "                    for l in np.arange(k, nVars):\n",
        "                        new_col = (\n",
        "                            ydotin[:, i] * yin[:, j] * yin[:, k] * yin[:, l]\n",
        "                            + yin[:, i] * ydotin[:, j] * yin[:, k] * yin[:, l]\n",
        "                            + yin[:, i] * yin[:, j] * ydotin[:, k] * yin[:, l]\n",
        "                            + yin[:, i] * yin[:, j] * yin[:, k] * ydotin[:, l]\n",
        "                        )\n",
        "                        yout = np.append(yout, new_col.reshape(-1, 1), 1)\n",
        "                        ind += 1\n",
        "\n",
        "    return yout\n"
      ]
    },
    {
      "cell_type": "markdown",
      "source": [
        "## For printing purposes:"
      ],
      "metadata": {
        "id": "fGD9aRbi5xUG"
      }
    },
    {
      "cell_type": "code",
      "source": [
        "import numpy as np\n",
        "\n",
        "def poolDataLIST(yin, ahat, nVars, polyorder):\n",
        "    n = len(yin)+1\n",
        "    ind = 0\n",
        "    yout = []\n",
        "\n",
        "    for i in range(nVars):\n",
        "        yout.append([yin[i]])\n",
        "        ind += 1\n",
        "\n",
        "    if polyorder >= 2:\n",
        "        for i in range(nVars):\n",
        "            for j in range(i, nVars):\n",
        "                yout.append([yin[i], yin[j]])\n",
        "                ind += 1\n",
        "\n",
        "    if polyorder >= 3:\n",
        "        for i in range(nVars):\n",
        "            for j in range(i, nVars):\n",
        "                for k in range(j, nVars):\n",
        "                    yout.append([yin[i], yin[j], yin[k]])\n",
        "                    ind += 1\n",
        "\n",
        "    if polyorder >= 4:\n",
        "        for i in range(nVars):\n",
        "            for j in range(i, nVars):\n",
        "                for k in range(j, nVars):\n",
        "                    for l in range(k, nVars):\n",
        "                        yout.append([yin[i], yin[j], yin[k], yin[l]])\n",
        "                        ind += 1\n",
        "\n",
        "    if polyorder >= 5:\n",
        "        for i in range(nVars):\n",
        "            for j in range(i, nVars):\n",
        "                for k in range(j, nVars):\n",
        "                    for l in range(k, nVars):\n",
        "                        for m in range(l, nVars):\n",
        "                            yout.append([yin[i], yin[j], yin[k], yin[l], yin[m]])\n",
        "                            ind += 1\n",
        "\n",
        "    output = yout\n",
        "\n",
        "    for item1, item2 in zip(output, ahat):\n",
        "      print(f'{item1}\\t{item2}'.replace(\", \", \"*\"))\n",
        "    return output\n"
      ],
      "metadata": {
        "id": "sL0HyhUNNFcT"
      },
      "execution_count": null,
      "outputs": []
    },
    {
      "cell_type": "markdown",
      "source": [
        "## Generating the data from a known dynamic"
      ],
      "metadata": {
        "id": "yFcNQ9mR59n2"
      }
    },
    {
      "cell_type": "code",
      "execution_count": null,
      "metadata": {
        "id": "-u-Lqx0TLtej"
      },
      "outputs": [],
      "source": [
        "from scipy.integrate import odeint\n",
        "from scipy.linalg import svd\n",
        "\n",
        "def f(q, t):\n",
        "    x, y = q\n",
        "    return [y, x-x**3]\n",
        "\n",
        "def solve(ic,t):\n",
        "    sol = odeint(f, ic, t)\n",
        "    return sol\n",
        "\n",
        "t = np.linspace(0, 10, 10000)\n",
        "x0 = np.array([0, -2.8])\n",
        "y=solve(x0,t)\n",
        "dy = np.array(f(y.T,t)).T"
      ]
    },
    {
      "cell_type": "markdown",
      "source": [
        "## Extended Dynamic Mode Decomposition (EDMD) using Singular Value Decomposition (SVD):\n",
        "\n",
        "1- Specify the desired polynomial order (polyorder) and number of variables (nvar) for the EDMD.\n",
        "\n",
        "2- Build the library matrix Theta using the data y, number of variables, and polynomial order. The library matrix captures the polynomial basis functions of the data.\n",
        "\n",
        "3- Build the library matrix Gamma using the data y and its derivative dy, along with the number of variables and polynomial order. The library matrix Gamma captures the polynomial basis functions of the time derivatives.\n",
        "\n",
        "4- Perform Singular Value Decomposition (SVD) on the difference between a zero matrix and the library matrix Theta multiplied by a scalar Gamma. This step helps identify the dominant modes in the data.\n",
        "\n",
        "5- Extract the last row of the right singular vectors matrix V (corresponding to the smallest singular value) and assign it to the sparse vector xi0. The sparse vector represents the coefficients of the dominant modes.\n",
        "\n",
        "6- Set small values in xi0 to zero.\n",
        "\n",
        "7- Generate the output using the sparse vector xi0 by calling poolDataLIST() with the appropriate arguments. This step constructs the output using the identified sparse coefficients."
      ],
      "metadata": {
        "id": "WnBYOS1-6D4T"
      }
    },
    {
      "cell_type": "code",
      "source": [
        "# Construct libraries\n",
        "polyorder = 4\n",
        "nvar = 2\n",
        "\n",
        "# Build the library matrix Theta\n",
        "Theta = buildTheta(y, nvar, polyorder)\n",
        "\n",
        "# Build the library matrix Gamma\n",
        "Gamma = buildGamma(y, dy, nvar, polyorder)\n",
        "\n",
        "# Perform SVD\n",
        "U, S, V = svd(0 * Theta - Gamma, full_matrices=False)\n",
        "\n",
        "# Extract the sparse vector xi0\n",
        "xi0 = V[-1, :]\n",
        "xi0[np.abs(xi0) < 1e-3] = 0\n",
        "\n",
        "# Generate the output using the sparse vector\n",
        "output = poolDataLIST(['x', 'y', 'z'], xi0, nvar, polyorder)\n"
      ],
      "metadata": {
        "colab": {
          "base_uri": "https://localhost:8080/"
        },
        "id": "VQfdgwAuP8aU",
        "outputId": "aec7ad70-6b70-4060-8d5d-c16c9149ba93"
      },
      "execution_count": null,
      "outputs": [
        {
          "output_type": "stream",
          "name": "stdout",
          "text": [
            "['x']\t0.0\n",
            "['y']\t0.0\n",
            "['x'*'x']\t-0.6666666666666667\n",
            "['x'*'y']\t0.0\n",
            "['y'*'y']\t0.6666666666666669\n",
            "['x'*'x'*'x']\t0.0\n",
            "['x'*'x'*'y']\t0.0\n",
            "['x'*'y'*'y']\t0.0\n",
            "['y'*'y'*'y']\t0.0\n",
            "['x'*'x'*'x'*'x']\t0.33333333333333337\n",
            "['x'*'x'*'x'*'y']\t0.0\n",
            "['x'*'x'*'y'*'y']\t0.0\n",
            "['x'*'y'*'y'*'y']\t0.0\n",
            "['y'*'y'*'y'*'y']\t0.0\n"
          ]
        }
      ]
    },
    {
      "cell_type": "markdown",
      "source": [
        "## Implementation of the least-squares Koopman algorithm breakdown:\n",
        "\n",
        "1-Specify the desired polynomial order (polyorder) and number of variables (nvar).\n",
        "\n",
        "2-Build the library matrix Theta using the data y and the specified number of variables and polynomial order.\n",
        "\n",
        "3-Build the library matrix Gamma using the data y and its derivative dy, along with the specified number of variables and polynomial order.\n",
        "\n",
        "4-Compute the Koopman operator K using the pseudo-inverse of Theta multiplied by Gamma. **This step is the core of the least-squares approach.**\n",
        "\n",
        "5-Set small values in K to zero to enhance numerical stability.\n",
        "\n",
        "6-Compute the eigenvalues (D) and eigenvectors (T) of K using np.linalg.eig().\n",
        "\n",
        "7-Sort the eigenvalues (D) in ascending order and obtain the sorted indices (IX) using np.argsort().\n",
        "\n",
        "8-Extract the eigenvector corresponding to the smallest eigenvalue from the eigenvector matrix T and assign it to xi1.\n",
        "\n",
        "\n",
        "9-Generate the output using the absolute value of xi1 by calling poolDataLIST() to get the polynomial coefficients."
      ],
      "metadata": {
        "id": "79b5yiMSfz3H"
      }
    },
    {
      "cell_type": "code",
      "source": [
        "# Define the desired polynomial order and number of variables\n",
        "polyorder = 4\n",
        "nvar = 2\n",
        "\n",
        "# Build the library matrix Theta from data (y)\n",
        "Theta = buildTheta(y, nvar, polyorder)\n",
        "\n",
        "# Build the library matrix Gamma from data (y and dy)\n",
        "Gamma = buildGamma(y, dy, nvar, polyorder)\n",
        "\n",
        "# Compute the Koopman operator using the least-squares approach\n",
        "K = np.linalg.pinv(Theta) @ Gamma\n",
        "\n",
        "# Set small values in K to zero for numerical stability\n",
        "K[np.abs(K) < 1e-12] = 0\n",
        "\n",
        "# Compute the eigenvalues (D) and eigenvectors (T) of K\n",
        "D, T = np.linalg.eig(K)\n",
        "\n",
        "# Sort the eigenvalues (D) in ascending order and obtain the sorted indices (IX)\n",
        "IX = np.argsort(np.abs(D))\n",
        "\n",
        "# Extract the eigenvector (xi1) corresponding to the smallest eigenvalue\n",
        "xi1 = T[:, IX[0]]\n",
        "\n",
        "# Set small values in xi1 to zero for numerical stability\n",
        "xi1[np.abs(xi1) < 1e-12] = 0\n",
        "\n",
        "# Generate the output using the absolute value of xi1\n",
        "output = poolDataLIST(['x', 'y'], abs(xi1), nvar, polyorder)\n"
      ],
      "metadata": {
        "colab": {
          "base_uri": "https://localhost:8080/"
        },
        "id": "SlS1No4kCt4Y",
        "outputId": "14f1071a-20cd-4664-9dde-40543f91337e"
      },
      "execution_count": null,
      "outputs": [
        {
          "output_type": "stream",
          "name": "stdout",
          "text": [
            "['x']\t0.0\n",
            "['y']\t0.0\n",
            "['x'*'x']\t0.6666666666666792\n",
            "['x'*'y']\t0.0\n",
            "['y'*'y']\t0.6666666666666536\n",
            "['x'*'x'*'x']\t0.0\n",
            "['x'*'x'*'y']\t0.0\n",
            "['x'*'y'*'y']\t0.0\n",
            "['y'*'y'*'y']\t0.0\n",
            "['x'*'x'*'x'*'x']\t0.33333333333333426\n",
            "['x'*'x'*'x'*'y']\t0.0\n",
            "['x'*'x'*'y'*'y']\t0.0\n",
            "['x'*'y'*'y'*'y']\t0.0\n",
            "['y'*'y'*'y'*'y']\t0.0\n"
          ]
        }
      ]
    },
    {
      "cell_type": "markdown",
      "source": [
        "## Same thing for Lorenz:\n",
        "\n",
        "For better results, we need better dataset for lorenz system. The accuracy and effectiveness of EDMD for the Lorenz system, or any other system, depend on several factors such as **the quality and quantity of the data**, the choice of basis functions, the selection of the polynomial order, and the presence of noise or modeling errors."
      ],
      "metadata": {
        "id": "gVrVMKVw6I-0"
      }
    },
    {
      "cell_type": "code",
      "source": [
        "# Lorenz Derivitive\n",
        "def lorenz_deriv(x_y_z, t0, sigma=10, beta=8/3, rho=28):\n",
        "    # Unpack the input variables\n",
        "    x, y, z = x_y_z\n",
        "\n",
        "    # Compute the derivatives\n",
        "    dx_dt = sigma * (y - x)\n",
        "    dy_dt = x * (rho - z) - y\n",
        "    dz_dt = x * y - beta * z\n",
        "\n",
        "    # Return the derivatives\n",
        "    return [dx_dt, dy_dt, dz_dt]\n",
        "\n",
        "\n",
        "def solve_lorenz(ic, t, sigma=10, beta=8/3, rho=28):\n",
        "    # Solve the Lorenz system of equations using odeint\n",
        "    sol = odeint(lorenz_deriv, ic, t, args=(sigma, beta, rho))\n",
        "    return sol\n",
        "\n",
        "# Define the time steps for integration\n",
        "t = np.linspace(0, 100, 100000)\n",
        "\n",
        "# Set the initial conditions\n",
        "x0 = [0, 1, 0]\n",
        "\n",
        "# Solve the Lorenz system\n",
        "y = solve_lorenz(x0, t)\n",
        "\n",
        "# Compute the derivative of the solution\n",
        "dy = np.array(lorenz_deriv(y.T, t)).T\n",
        "\n",
        "\n",
        "# Construct libraries\n",
        "polyorder = 3\n",
        "nvar = 3\n",
        "\n",
        "# Build the library matrix Theta\n",
        "Theta = buildTheta(y, nvar, polyorder)\n",
        "\n",
        "# Build the library matrix Gamma\n",
        "Gamma = buildGamma(y, dy, nvar, polyorder)\n",
        "\n",
        "# Perform SVD\n",
        "U, S, V = svd(0 * Theta - Gamma, full_matrices=False)\n",
        "\n",
        "# Extract the sparse vector xi0\n",
        "xi0 = V[-1, :]\n",
        "xi0[np.abs(xi0) < 1e-3] = 0\n",
        "\n",
        "# Generate the output using the sparse vector\n",
        "output = poolDataLIST(['x', 'y', 'z'], xi0, nvar, polyorder)\n"
      ],
      "metadata": {
        "colab": {
          "base_uri": "https://localhost:8080/"
        },
        "id": "SaU_WmO4dRs2",
        "outputId": "50424f33-2bc5-4c78-cad4-776dab7d81fe"
      },
      "execution_count": null,
      "outputs": [
        {
          "output_type": "stream",
          "name": "stdout",
          "text": [
            "['x']\t0.8847513519784561\n",
            "['y']\t-0.46259824963530666\n",
            "['z']\t0.00486311460869955\n",
            "['x'*'x']\t0.0030044790835703126\n",
            "['x'*'y']\t-0.002256090478753538\n",
            "['x'*'z']\t-0.05109122509834033\n",
            "['y'*'y']\t0.0\n",
            "['y'*'z']\t0.023772354342215706\n",
            "['z'*'z']\t0.0\n",
            "['x'*'x'*'x']\t-0.0018422852901978162\n",
            "['x'*'x'*'y']\t0.0\n",
            "['x'*'x'*'z']\t0.0\n",
            "['x'*'y'*'y']\t0.0\n",
            "['x'*'y'*'z']\t0.0\n",
            "['x'*'z'*'z']\t0.0\n",
            "['y'*'y'*'y']\t0.0\n",
            "['y'*'y'*'z']\t0.0\n",
            "['y'*'z'*'z']\t0.0\n",
            "['z'*'z'*'z']\t0.0\n"
          ]
        }
      ]
    },
    {
      "cell_type": "code",
      "source": [
        "# Define the desired polynomial order and number of variables\n",
        "polyorder = 3\n",
        "nvar = 3\n",
        "\n",
        "# Build the library matrix Theta\n",
        "Theta = buildTheta(y, nvar, polyorder)\n",
        "\n",
        "# Build the library matrix Gamma\n",
        "Gamma = buildGamma(y, dy, nvar, polyorder)\n",
        "\n",
        "# Compute the Koopman operator using the least-squares approach\n",
        "K = np.linalg.pinv(Theta) @ Gamma\n",
        "\n",
        "# Set small values in K to zero for numerical stability\n",
        "K[np.abs(K) < 1e-12] = 0\n",
        "\n",
        "# Compute the eigenvalues (D) and eigenvectors (T) of K\n",
        "D, T = np.linalg.eig(K)\n",
        "\n",
        "# Sort the eigenvalues (D) in ascending order and obtain the sorted indices (IX)\n",
        "IX = np.argsort(np.abs(D))\n",
        "\n",
        "# Extract the eigenvector (xi1) corresponding to the smallest eigenvalue\n",
        "xi1 = T[:, IX[0]]\n",
        "\n",
        "# Set small values in xi1 to zero for numerical stability\n",
        "xi1[np.abs(xi1) < 1e-3] = 0\n",
        "\n",
        "# Generate the output using the absolute value of xi1\n",
        "output = poolDataLIST(['x', 'y','z'], abs(xi1), nvar, polyorder)\n"
      ],
      "metadata": {
        "id": "AsWtEdLbJd9L",
        "colab": {
          "base_uri": "https://localhost:8080/"
        },
        "outputId": "a7868870-4266-4f9c-c75e-9354e673c39c"
      },
      "execution_count": null,
      "outputs": [
        {
          "output_type": "stream",
          "name": "stdout",
          "text": [
            "['x']\t0.7102392779405408\n",
            "['y']\t0.3288441532101477\n",
            "['z']\t0.6006537792722473\n",
            "['x'*'x']\t0.1340208262509187\n",
            "['x'*'y']\t0.08371064498731991\n",
            "['x'*'z']\t0.028091434477879127\n",
            "['y'*'y']\t0.010307492497910598\n",
            "['y'*'z']\t0.009445655512111\n",
            "['z'*'z']\t0.02544555878173035\n",
            "['x'*'x'*'x']\t0.0015105077486257405\n",
            "['x'*'x'*'y']\t0.003140279951581945\n",
            "['x'*'x'*'z']\t0.0034600304249564674\n",
            "['x'*'y'*'y']\t0.0018072957924786949\n",
            "['x'*'y'*'z']\t0.0026980185262491315\n",
            "['x'*'z'*'z']\t0.0\n",
            "['y'*'y'*'y']\t0.0\n",
            "['y'*'y'*'z']\t0.0\n",
            "['y'*'z'*'z']\t0.0\n",
            "['z'*'z'*'z']\t0.0\n"
          ]
        }
      ]
    }
  ],
  "metadata": {
    "kernelspec": {
      "display_name": "Python 3",
      "language": "python",
      "name": "python3"
    },
    "language_info": {
      "name": "python",
      "version": "3.11.2"
    },
    "orig_nbformat": 4,
    "colab": {
      "provenance": [],
      "include_colab_link": true
    }
  },
  "nbformat": 4,
  "nbformat_minor": 0
}